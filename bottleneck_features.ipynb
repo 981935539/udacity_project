{
 "cells": [
  {
   "cell_type": "code",
   "execution_count": 1,
   "metadata": {},
   "outputs": [
    {
     "name": "stderr",
     "output_type": "stream",
     "text": [
      "Using TensorFlow backend.\n"
     ]
    }
   ],
   "source": [
    "import os\n",
    "import h5py\n",
    "import random\n",
    "import numpy as np\n",
    "import pandas as pd\n",
    "from tqdm import tqdm\n",
    "from glob import iglob\n",
    "import matplotlib.pyplot as plt\n",
    "from keras.preprocessing import image                \n",
    "\n",
    "random.seed(9527)"
   ]
  },
  {
   "cell_type": "markdown",
   "metadata": {},
   "source": [
    "1、加载数据"
   ]
  },
  {
   "cell_type": "code",
   "execution_count": 2,
   "metadata": {},
   "outputs": [],
   "source": [
    "def load_dataset(path):\n",
    "    image_list = []\n",
    "    images = iglob(path)\n",
    "    for image in images:\n",
    "        image_name = os.path.basename(image)\n",
    "        data = image_name.split('.')\n",
    "        data[0] = 1 if data[0] == 'dog' else 0\n",
    "        data[1] = int(data[1])\n",
    "        data.append(image)\n",
    "        image_list.append(data)\n",
    "    image_list.sort(key=lambda x: int(x[1]))\n",
    "    return image_list"
   ]
  },
  {
   "cell_type": "code",
   "execution_count": 3,
   "metadata": {},
   "outputs": [
    {
     "data": {
      "text/plain": [
       "array([['1', '446', 'jpg', './all/train\\\\dog.446.jpg'],\n",
       "       ['0', '4840', 'jpg', './all/train\\\\cat.4840.jpg'],\n",
       "       ['0', '8467', 'jpg', './all/train\\\\cat.8467.jpg'],\n",
       "       ['1', '4930', 'jpg', './all/train\\\\dog.4930.jpg'],\n",
       "       ['1', '7202', 'jpg', './all/train\\\\dog.7202.jpg']], dtype='<U25')"
      ]
     },
     "execution_count": 3,
     "metadata": {},
     "output_type": "execute_result"
    }
   ],
   "source": [
    "train_data = load_dataset('./all/train/*')\n",
    "# print(train_data[:5])\n",
    "# 随机打乱数据集\n",
    "random.shuffle(train_data)\n",
    "train_data = np.array(train_data)\n",
    "train_data[:5]"
   ]
  },
  {
   "cell_type": "code",
   "execution_count": 4,
   "metadata": {},
   "outputs": [
    {
     "data": {
      "text/plain": [
       "(array(['./all/train\\\\dog.446.jpg', './all/train\\\\cat.4840.jpg',\n",
       "        './all/train\\\\cat.8467.jpg', './all/train\\\\dog.4930.jpg',\n",
       "        './all/train\\\\dog.7202.jpg'], dtype='<U25'), array([1, 0, 0, 1, 1]))"
      ]
     },
     "execution_count": 4,
     "metadata": {},
     "output_type": "execute_result"
    }
   ],
   "source": [
    "train_files, train_targets = train_data[:][:, 3], train_data[:][:, 0]\n",
    "train_targets = train_targets.astype(int)\n",
    "train_files[:5], train_targets[:5]"
   ]
  },
  {
   "cell_type": "markdown",
   "metadata": {},
   "source": [
    "2、数据预处理"
   ]
  },
  {
   "cell_type": "code",
   "execution_count": 5,
   "metadata": {},
   "outputs": [],
   "source": [
    "def path_to_tensor(img_path):\n",
    "    # 用PIL加载RGB图像为PIL.Image.Image类型\n",
    "    img = image.load_img(img_path, target_size=(299, 299))\n",
    "    # 将PIL.Image.Image类型转化为格式为(299, 299, 3)的3维张量\n",
    "    x = image.img_to_array(img)\n",
    "    # 将3维张量转化为格式为(1, 299, 299, 3)的4维张量并返回\n",
    "    return np.expand_dims(x, axis=0)\n",
    "\n",
    "def paths_to_tensor(img_paths):\n",
    "    list_of_tensors = [path_to_tensor(img_path) for img_path in tqdm(img_paths)]\n",
    "    return np.vstack(list_of_tensors)"
   ]
  },
  {
   "cell_type": "code",
   "execution_count": 6,
   "metadata": {},
   "outputs": [
    {
     "name": "stderr",
     "output_type": "stream",
     "text": [
      "100%|████████████████████████████████████████████████████████████████████████████| 25000/25000 [05:21<00:00, 77.69it/s]\n"
     ]
    }
   ],
   "source": [
    "from PIL import ImageFile\n",
    "from keras.applications.xception import Xception, preprocess_input\n",
    "ImageFile.LOAD_TRUNCATED_IMAGES = True                 \n",
    "\n",
    "# 实现了归一化处理。\n",
    "train_tensors = preprocess_input(paths_to_tensor(train_files))"
   ]
  },
  {
   "cell_type": "code",
   "execution_count": 7,
   "metadata": {},
   "outputs": [
    {
     "data": {
      "text/plain": [
       "(25000, 299, 299, 3)"
      ]
     },
     "execution_count": 7,
     "metadata": {},
     "output_type": "execute_result"
    }
   ],
   "source": [
    "train_tensors.shape"
   ]
  },
  {
   "cell_type": "code",
   "execution_count": 8,
   "metadata": {},
   "outputs": [],
   "source": [
    "from keras.preprocessing import image\n",
    "from keras.models import Model\n",
    "from keras.layers import Dense, GlobalAveragePooling2D, Input, Dropout\n",
    "from keras import backend as K\n",
    "import h5py\n",
    "\n",
    "# 创建预训练模型\n",
    "base_model = Xception(weights='imagenet', include_top=False)\n",
    "\n",
    "# 添加一个全局平均池化层\n",
    "x = base_model.output\n",
    "x = GlobalAveragePooling2D()(x)\n",
    "\n",
    "# 提取特征的模型\n",
    "model = Model(inputs=base_model.input, outputs=x)"
   ]
  },
  {
   "cell_type": "code",
   "execution_count": 9,
   "metadata": {},
   "outputs": [],
   "source": [
    "train = model.predict(train_tensors)"
   ]
  },
  {
   "cell_type": "code",
   "execution_count": 10,
   "metadata": {},
   "outputs": [],
   "source": [
    "with h5py.File(\"features_Xception.h5\", 'w') as h:\n",
    "        h.create_dataset(\"train\", data=train)\n",
    "        h.create_dataset(\"label\", data=train_targets)"
   ]
  },
  {
   "cell_type": "code",
   "execution_count": null,
   "metadata": {},
   "outputs": [],
   "source": []
  }
 ],
 "metadata": {
  "kernelspec": {
   "display_name": "Python 3",
   "language": "python",
   "name": "python3"
  },
  "language_info": {
   "codemirror_mode": {
    "name": "ipython",
    "version": 3
   },
   "file_extension": ".py",
   "mimetype": "text/x-python",
   "name": "python",
   "nbconvert_exporter": "python",
   "pygments_lexer": "ipython3",
   "version": "3.6.6"
  }
 },
 "nbformat": 4,
 "nbformat_minor": 2
}
