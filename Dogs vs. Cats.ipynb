{
 "cells": [
  {
   "cell_type": "code",
   "execution_count": 1,
   "metadata": {},
   "outputs": [
    {
     "name": "stderr",
     "output_type": "stream",
     "text": [
      "Using TensorFlow backend.\n"
     ]
    }
   ],
   "source": [
    "import os\n",
    "import h5py\n",
    "import random\n",
    "import numpy as np\n",
    "import pandas as pd\n",
    "from tqdm import tqdm\n",
    "from glob import iglob\n",
    "from keras.models import Model\n",
    "import matplotlib.pyplot as plt\n",
    "from keras.preprocessing import image   \n",
    "from keras.layers import Dense, GlobalAveragePooling2D, Input, Dropout\n",
    "\n",
    "random.seed(9527)"
   ]
  },
  {
   "cell_type": "markdown",
   "metadata": {},
   "source": [
    "1、加载测试集数据"
   ]
  },
  {
   "cell_type": "code",
   "execution_count": 2,
   "metadata": {},
   "outputs": [
    {
     "data": {
      "text/plain": [
       "array(['./all/test\\\\1.jpg', './all/test\\\\10.jpg', './all/test\\\\100.jpg',\n",
       "       './all/test\\\\1000.jpg', './all/test\\\\10000.jpg'], dtype='<U20')"
      ]
     },
     "execution_count": 2,
     "metadata": {},
     "output_type": "execute_result"
    }
   ],
   "source": [
    "test_image = iglob('./all/test/*')\n",
    "test_files = np.array(list(test_image))\n",
    "test_files[:5]"
   ]
  },
  {
   "cell_type": "markdown",
   "metadata": {},
   "source": [
    "2、数据预处理"
   ]
  },
  {
   "cell_type": "code",
   "execution_count": 3,
   "metadata": {},
   "outputs": [],
   "source": [
    "def path_to_tensor(img_path):\n",
    "    # 用PIL加载RGB图像为PIL.Image.Image类型\n",
    "    img = image.load_img(img_path, target_size=(299, 299))\n",
    "    # 将PIL.Image.Image类型转化为格式为(299, 299, 3)的3维张量\n",
    "    x = image.img_to_array(img)\n",
    "    # 将3维张量转化为格式为(1, 299, 299, 3)的4维张量并返回\n",
    "    return np.expand_dims(x, axis=0)\n",
    "\n",
    "def paths_to_tensor(img_paths):\n",
    "    list_of_tensors = [path_to_tensor(img_path) for img_path in tqdm(img_paths)]\n",
    "    return np.vstack(list_of_tensors)"
   ]
  },
  {
   "cell_type": "code",
   "execution_count": 4,
   "metadata": {},
   "outputs": [
    {
     "name": "stderr",
     "output_type": "stream",
     "text": [
      "100%|███████████████████████████████████████████████████████████████████████████| 12500/12500 [00:32<00:00, 340.02it/s]\n"
     ]
    }
   ],
   "source": [
    "from PIL import ImageFile\n",
    "from keras.applications.xception import Xception, preprocess_input\n",
    "ImageFile.LOAD_TRUNCATED_IMAGES = True                 \n",
    "\n",
    "# 实现了归一化处理。\n",
    "test_tensors = preprocess_input(paths_to_tensor(test_files))"
   ]
  },
  {
   "cell_type": "code",
   "execution_count": 5,
   "metadata": {},
   "outputs": [],
   "source": [
    "# 创建预训练模型\n",
    "base_model = Xception(weights='imagenet', include_top=False)\n",
    "\n",
    "# 添加一个全局平均池化层\n",
    "x = base_model.output\n",
    "x = GlobalAveragePooling2D()(x)\n",
    "\n",
    "# 提取特征的模型\n",
    "model = Model(inputs=base_model.input, outputs=x)"
   ]
  },
  {
   "cell_type": "code",
   "execution_count": 6,
   "metadata": {},
   "outputs": [],
   "source": [
    "test = model.predict(test_tensors)"
   ]
  },
  {
   "cell_type": "code",
   "execution_count": 7,
   "metadata": {},
   "outputs": [],
   "source": [
    "X_test = np.array(test)"
   ]
  },
  {
   "cell_type": "markdown",
   "metadata": {},
   "source": [
    "3、加载特征向量"
   ]
  },
  {
   "cell_type": "code",
   "execution_count": 8,
   "metadata": {},
   "outputs": [],
   "source": [
    "with h5py.File(\"features_Xception.h5\", 'r') as h:\n",
    "    X_train = np.array(h['train'])\n",
    "    Y_train = np.array(h['label'])"
   ]
  },
  {
   "cell_type": "markdown",
   "metadata": {},
   "source": [
    "4、构建模型"
   ]
  },
  {
   "cell_type": "code",
   "execution_count": 9,
   "metadata": {},
   "outputs": [],
   "source": [
    "input_tensor = Input(X_train.shape[1:])\n",
    "x = Dropout(0.5)(input_tensor)\n",
    "x = Dense(1, activation='sigmoid')(x)\n",
    "model = Model(input_tensor, x)\n",
    "\n",
    "model.compile(optimizer='adadelta', loss='binary_crossentropy', metrics=['accuracy'])"
   ]
  },
  {
   "cell_type": "markdown",
   "metadata": {},
   "source": [
    "5、训练模型"
   ]
  },
  {
   "cell_type": "code",
   "execution_count": 10,
   "metadata": {},
   "outputs": [
    {
     "name": "stdout",
     "output_type": "stream",
     "text": [
      "Train on 20000 samples, validate on 5000 samples\n",
      "Epoch 1/8\n",
      "20000/20000 [==============================] - ETA: 2:00 - loss: 0.7146 - acc: 0.539 - ETA: 6s - loss: 0.4557 - acc: 0.8741  - ETA: 3s - loss: 0.3412 - acc: 0.929 - ETA: 1s - loss: 0.2757 - acc: 0.950 - ETA: 1s - loss: 0.2338 - acc: 0.960 - ETA: 0s - loss: 0.2051 - acc: 0.966 - ETA: 0s - loss: 0.1844 - acc: 0.970 - ETA: 0s - loss: 0.1683 - acc: 0.973 - ETA: 0s - loss: 0.1537 - acc: 0.975 - 1s 67us/step - loss: 0.1457 - acc: 0.9769 - val_loss: 0.0441 - val_acc: 0.9918\n",
      "Epoch 2/8\n",
      "20000/20000 [==============================] - ETA: 0s - loss: 0.0646 - acc: 0.992 - ETA: 0s - loss: 0.0544 - acc: 0.990 - ETA: 0s - loss: 0.0515 - acc: 0.990 - ETA: 0s - loss: 0.0484 - acc: 0.991 - ETA: 0s - loss: 0.0471 - acc: 0.990 - ETA: 0s - loss: 0.0445 - acc: 0.991 - ETA: 0s - loss: 0.0427 - acc: 0.991 - ETA: 0s - loss: 0.0403 - acc: 0.991 - ETA: 0s - loss: 0.0402 - acc: 0.991 - 0s 25us/step - loss: 0.0395 - acc: 0.9915 - val_loss: 0.0241 - val_acc: 0.9946\n",
      "Epoch 3/8\n",
      "20000/20000 [==============================] - ETA: 0s - loss: 0.0408 - acc: 0.984 - ETA: 0s - loss: 0.0264 - acc: 0.995 - ETA: 0s - loss: 0.0290 - acc: 0.993 - ETA: 0s - loss: 0.0314 - acc: 0.992 - ETA: 0s - loss: 0.0287 - acc: 0.993 - ETA: 0s - loss: 0.0282 - acc: 0.993 - ETA: 0s - loss: 0.0291 - acc: 0.992 - ETA: 0s - loss: 0.0281 - acc: 0.993 - ETA: 0s - loss: 0.0275 - acc: 0.993 - 1s 25us/step - loss: 0.0280 - acc: 0.9931 - val_loss: 0.0193 - val_acc: 0.9942\n",
      "Epoch 4/8\n",
      "20000/20000 [==============================] - ETA: 0s - loss: 0.0221 - acc: 0.992 - ETA: 0s - loss: 0.0313 - acc: 0.990 - ETA: 0s - loss: 0.0330 - acc: 0.990 - ETA: 0s - loss: 0.0294 - acc: 0.992 - ETA: 0s - loss: 0.0284 - acc: 0.992 - ETA: 0s - loss: 0.0269 - acc: 0.992 - ETA: 0s - loss: 0.0261 - acc: 0.992 - ETA: 0s - loss: 0.0253 - acc: 0.993 - ETA: 0s - loss: 0.0251 - acc: 0.993 - 1s 25us/step - loss: 0.0252 - acc: 0.9932 - val_loss: 0.0175 - val_acc: 0.9944\n",
      "Epoch 5/8\n",
      "20000/20000 [==============================] - ETA: 0s - loss: 0.0292 - acc: 0.992 - ETA: 0s - loss: 0.0229 - acc: 0.993 - ETA: 0s - loss: 0.0220 - acc: 0.993 - ETA: 0s - loss: 0.0250 - acc: 0.991 - ETA: 0s - loss: 0.0257 - acc: 0.991 - ETA: 0s - loss: 0.0248 - acc: 0.992 - ETA: 0s - loss: 0.0242 - acc: 0.992 - ETA: 0s - loss: 0.0245 - acc: 0.992 - ETA: 0s - loss: 0.0248 - acc: 0.992 - 1s 25us/step - loss: 0.0242 - acc: 0.9929 - val_loss: 0.0165 - val_acc: 0.9942\n",
      "Epoch 6/8\n",
      "20000/20000 [==============================] - ETA: 0s - loss: 0.0152 - acc: 0.992 - ETA: 0s - loss: 0.0196 - acc: 0.993 - ETA: 0s - loss: 0.0214 - acc: 0.993 - ETA: 0s - loss: 0.0212 - acc: 0.993 - ETA: 0s - loss: 0.0200 - acc: 0.993 - ETA: 0s - loss: 0.0222 - acc: 0.993 - ETA: 0s - loss: 0.0225 - acc: 0.993 - ETA: 0s - loss: 0.0220 - acc: 0.993 - ETA: 0s - loss: 0.0221 - acc: 0.993 - 1s 25us/step - loss: 0.0216 - acc: 0.9937 - val_loss: 0.0158 - val_acc: 0.9944\n",
      "Epoch 7/8\n",
      "20000/20000 [==============================] - ETA: 0s - loss: 0.0203 - acc: 0.992 - ETA: 0s - loss: 0.0240 - acc: 0.993 - ETA: 0s - loss: 0.0247 - acc: 0.992 - ETA: 0s - loss: 0.0254 - acc: 0.993 - ETA: 0s - loss: 0.0240 - acc: 0.993 - ETA: 0s - loss: 0.0228 - acc: 0.993 - ETA: 0s - loss: 0.0225 - acc: 0.993 - ETA: 0s - loss: 0.0224 - acc: 0.993 - ETA: 0s - loss: 0.0217 - acc: 0.994 - 1s 25us/step - loss: 0.0215 - acc: 0.9940 - val_loss: 0.0155 - val_acc: 0.9946\n",
      "Epoch 8/8\n",
      "20000/20000 [==============================] - ETA: 0s - loss: 0.0066 - acc: 1.000 - ETA: 0s - loss: 0.0264 - acc: 0.992 - ETA: 0s - loss: 0.0227 - acc: 0.992 - ETA: 0s - loss: 0.0216 - acc: 0.992 - ETA: 0s - loss: 0.0211 - acc: 0.993 - ETA: 0s - loss: 0.0221 - acc: 0.993 - ETA: 0s - loss: 0.0213 - acc: 0.993 - ETA: 0s - loss: 0.0214 - acc: 0.993 - ETA: 0s - loss: 0.0210 - acc: 0.993 - 1s 25us/step - loss: 0.0207 - acc: 0.9938 - val_loss: 0.0152 - val_acc: 0.9942\n"
     ]
    }
   ],
   "source": [
    "result = model.fit(X_train, Y_train, batch_size=128, epochs=8, validation_split=0.2)"
   ]
  },
  {
   "cell_type": "code",
   "execution_count": 11,
   "metadata": {},
   "outputs": [
    {
     "data": {
      "text/plain": [
       "{'val_loss': [0.044144301825761796,\n",
       "  0.024078390261530875,\n",
       "  0.019330625288188456,\n",
       "  0.01750801012068987,\n",
       "  0.01646828453242779,\n",
       "  0.01584575206451118,\n",
       "  0.015467300565168261,\n",
       "  0.015224326853081584],\n",
       " 'val_acc': [0.9918, 0.9946, 0.9942, 0.9944, 0.9942, 0.9944, 0.9946, 0.9942],\n",
       " 'loss': [0.14572744399011134,\n",
       "  0.03946091593503952,\n",
       "  0.027986999097466467,\n",
       "  0.025154550391435625,\n",
       "  0.02421317187845707,\n",
       "  0.021612837810069323,\n",
       "  0.021536763644218446,\n",
       "  0.020659119087085127],\n",
       " 'acc': [0.9769, 0.99155, 0.99305, 0.99325, 0.99285, 0.99365, 0.994, 0.99385]}"
      ]
     },
     "execution_count": 11,
     "metadata": {},
     "output_type": "execute_result"
    }
   ],
   "source": [
    "result.history"
   ]
  },
  {
   "cell_type": "code",
   "execution_count": 12,
   "metadata": {},
   "outputs": [
    {
     "data": {
      "text/plain": [
       "0.99405"
      ]
     },
     "execution_count": 12,
     "metadata": {},
     "output_type": "execute_result"
    }
   ],
   "source": [
    "np.array(result.history.get(\"val_acc\")).mean()"
   ]
  },
  {
   "cell_type": "code",
   "execution_count": 13,
   "metadata": {},
   "outputs": [],
   "source": [
    "val_acc = np.array(result.history.get(\"val_acc\"))\n",
    "acc = np.array(result.history.get(\"acc\"))"
   ]
  },
  {
   "cell_type": "code",
   "execution_count": 14,
   "metadata": {},
   "outputs": [
    {
     "data": {
      "image/png": "[encoded data removed]",
      "text/plain": [
       "<Figure size 432x288 with 1 Axes>"
      ]
     },
     "metadata": {
      "needs_background": "light"
     },
     "output_type": "display_data"
    }
   ],
   "source": [
    "plt.plot(val_acc, label='val_acc')\n",
    "plt.plot(acc, label='acc')\n",
    "\n",
    "plt.title('Learning curve')\n",
    "plt.legend()\n",
    "plt.show()"
   ]
  },
  {
   "cell_type": "markdown",
   "metadata": {},
   "source": [
    "6、预测测试集"
   ]
  },
  {
   "cell_type": "code",
   "execution_count": 15,
   "metadata": {},
   "outputs": [
    {
     "name": "stdout",
     "output_type": "stream",
     "text": [
      "12500/12500 [==============================] - ETA: 45 - ETA: 0 - ETA:  - ETA:  - ETA:  - 0s 28us/step\n"
     ]
    },
    {
     "name": "stderr",
     "output_type": "stream",
     "text": [
      "c:\\python36\\lib\\site-packages\\ipykernel_launcher.py:8: FutureWarning: set_value is deprecated and will be removed in a future release. Please use .at[] or .iat[] accessors instead\n",
      "  \n"
     ]
    },
    {
     "data": {
      "text/html": [
       "<div>\n",
       "<style scoped>\n",
       "    .dataframe tbody tr th:only-of-type {\n",
       "        vertical-align: middle;\n",
       "    }\n",
       "\n",
       "    .dataframe tbody tr th {\n",
       "        vertical-align: top;\n",
       "    }\n",
       "\n",
       "    .dataframe thead th {\n",
       "        text-align: right;\n",
       "    }\n",
       "</style>\n",
       "<table border=\"1\" class=\"dataframe\">\n",
       "  <thead>\n",
       "    <tr style=\"text-align: right;\">\n",
       "      <th></th>\n",
       "      <th>id</th>\n",
       "      <th>label</th>\n",
       "    </tr>\n",
       "  </thead>\n",
       "  <tbody>\n",
       "    <tr>\n",
       "      <th>0</th>\n",
       "      <td>1</td>\n",
       "      <td>0.995</td>\n",
       "    </tr>\n",
       "    <tr>\n",
       "      <th>1</th>\n",
       "      <td>2</td>\n",
       "      <td>0.995</td>\n",
       "    </tr>\n",
       "    <tr>\n",
       "      <th>2</th>\n",
       "      <td>3</td>\n",
       "      <td>0.995</td>\n",
       "    </tr>\n",
       "    <tr>\n",
       "      <th>3</th>\n",
       "      <td>4</td>\n",
       "      <td>0.995</td>\n",
       "    </tr>\n",
       "    <tr>\n",
       "      <th>4</th>\n",
       "      <td>5</td>\n",
       "      <td>0.005</td>\n",
       "    </tr>\n",
       "    <tr>\n",
       "      <th>5</th>\n",
       "      <td>6</td>\n",
       "      <td>0.005</td>\n",
       "    </tr>\n",
       "    <tr>\n",
       "      <th>6</th>\n",
       "      <td>7</td>\n",
       "      <td>0.005</td>\n",
       "    </tr>\n",
       "    <tr>\n",
       "      <th>7</th>\n",
       "      <td>8</td>\n",
       "      <td>0.005</td>\n",
       "    </tr>\n",
       "    <tr>\n",
       "      <th>8</th>\n",
       "      <td>9</td>\n",
       "      <td>0.005</td>\n",
       "    </tr>\n",
       "    <tr>\n",
       "      <th>9</th>\n",
       "      <td>10</td>\n",
       "      <td>0.005</td>\n",
       "    </tr>\n",
       "  </tbody>\n",
       "</table>\n",
       "</div>"
      ],
      "text/plain": [
       "   id  label\n",
       "0   1  0.995\n",
       "1   2  0.995\n",
       "2   3  0.995\n",
       "3   4  0.995\n",
       "4   5  0.005\n",
       "5   6  0.005\n",
       "6   7  0.005\n",
       "7   8  0.005\n",
       "8   9  0.005\n",
       "9  10  0.005"
      ]
     },
     "execution_count": 15,
     "metadata": {},
     "output_type": "execute_result"
    }
   ],
   "source": [
    "y_pred = model.predict(X_test, verbose=1)\n",
    "y_pred = y_pred.clip(min=0.005, max=0.995)\n",
    "\n",
    "\n",
    "df = pd.read_csv(\"all/sample_submission.csv\")\n",
    "for i, fname in enumerate(test_files):\n",
    "    index = int(fname[fname.rfind('\\\\')+1:fname.rfind('.')])\n",
    "    df.set_value(index-1, 'label', y_pred[i])\n",
    "\n",
    "df.to_csv('predictions.csv', index=False)\n",
    "df.head(10)"
   ]
  },
  {
   "cell_type": "code",
   "execution_count": 16,
   "metadata": {},
   "outputs": [],
   "source": [
    "end_logloss= 0.04107"
   ]
  },
  {
   "cell_type": "code",
   "execution_count": 18,
   "metadata": {},
   "outputs": [],
   "source": [
    "clip_logloss = 0.04947"
   ]
  },
  {
   "cell_type": "code",
   "execution_count": null,
   "metadata": {},
   "outputs": [],
   "source": []
  }
 ],
 "metadata": {
  "kernelspec": {
   "display_name": "Python 3",
   "language": "python",
   "name": "python3"
  },
  "language_info": {
   "codemirror_mode": {
    "name": "ipython",
    "version": 3
   },
   "file_extension": ".py",
   "mimetype": "text/x-python",
   "name": "python",
   "nbconvert_exporter": "python",
   "pygments_lexer": "ipython3",
   "version": "3.6.6"
  }
 },
 "nbformat": 4,
 "nbformat_minor": 2
}
