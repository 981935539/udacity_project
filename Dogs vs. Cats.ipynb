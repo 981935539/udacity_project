{
 "cells": [
  {
   "cell_type": "code",
   "execution_count": 1,
   "metadata": {},
   "outputs": [
    {
     "name": "stderr",
     "output_type": "stream",
     "text": [
      "Using TensorFlow backend.\n"
     ]
    }
   ],
   "source": [
    "import os\n",
    "import h5py\n",
    "import random\n",
    "import numpy as np\n",
    "import pandas as pd\n",
    "from tqdm import tqdm\n",
    "from glob import iglob\n",
    "from keras.models import Model\n",
    "import matplotlib.pyplot as plt\n",
    "from keras.preprocessing import image   \n",
    "from keras.layers import Dense, GlobalAveragePooling2D, Input, Dropout\n",
    "\n",
    "random.seed(9527)"
   ]
  },
  {
   "cell_type": "markdown",
   "metadata": {},
   "source": [
    "1、加载测试集数据"
   ]
  },
  {
   "cell_type": "code",
   "execution_count": 2,
   "metadata": {},
   "outputs": [
    {
     "data": {
      "text/plain": [
       "array(['./all/test\\\\1.jpg', './all/test\\\\10.jpg', './all/test\\\\100.jpg',\n",
       "       './all/test\\\\1000.jpg', './all/test\\\\10000.jpg'], dtype='<U20')"
      ]
     },
     "execution_count": 2,
     "metadata": {},
     "output_type": "execute_result"
    }
   ],
   "source": [
    "test_image = iglob('./all/test/*')\n",
    "test_files = np.array(list(test_image))\n",
    "test_files[:5]"
   ]
  },
  {
   "cell_type": "markdown",
   "metadata": {},
   "source": [
    "2、数据预处理"
   ]
  },
  {
   "cell_type": "code",
   "execution_count": 3,
   "metadata": {},
   "outputs": [],
   "source": [
    "def path_to_tensor(img_path):\n",
    "    # 用PIL加载RGB图像为PIL.Image.Image类型\n",
    "    img = image.load_img(img_path, target_size=(299, 299))\n",
    "    # 将PIL.Image.Image类型转化为格式为(299, 299, 3)的3维张量\n",
    "    x = image.img_to_array(img)\n",
    "    # 将3维张量转化为格式为(1, 299, 299, 3)的4维张量并返回\n",
    "    return np.expand_dims(x, axis=0)\n",
    "\n",
    "def paths_to_tensor(img_paths):\n",
    "    list_of_tensors = [path_to_tensor(img_path) for img_path in tqdm(img_paths)]\n",
    "    return np.vstack(list_of_tensors)"
   ]
  },
  {
   "cell_type": "code",
   "execution_count": 4,
   "metadata": {},
   "outputs": [
    {
     "name": "stderr",
     "output_type": "stream",
     "text": [
      "100%|███████████████████████████████████████████████████████████████████████████| 12500/12500 [00:32<00:00, 388.49it/s]\n"
     ]
    }
   ],
   "source": [
    "from PIL import ImageFile\n",
    "from keras.applications.xception import Xception, preprocess_input\n",
    "ImageFile.LOAD_TRUNCATED_IMAGES = True                 \n",
    "\n",
    "# 实现了归一化处理。\n",
    "test_tensors = preprocess_input(paths_to_tensor(test_files))"
   ]
  },
  {
   "cell_type": "code",
   "execution_count": 5,
   "metadata": {},
   "outputs": [],
   "source": [
    "# 创建预训练模型\n",
    "base_model = Xception(weights='imagenet', include_top=False)\n",
    "\n",
    "# 添加一个全局平均池化层\n",
    "x = base_model.output\n",
    "x = GlobalAveragePooling2D()(x)\n",
    "\n",
    "# 提取特征的模型\n",
    "model = Model(inputs=base_model.input, outputs=x)"
   ]
  },
  {
   "cell_type": "code",
   "execution_count": 6,
   "metadata": {},
   "outputs": [],
   "source": [
    "test = model.predict(test_tensors)"
   ]
  },
  {
   "cell_type": "code",
   "execution_count": 7,
   "metadata": {},
   "outputs": [],
   "source": [
    "X_test = np.array(test)"
   ]
  },
  {
   "cell_type": "markdown",
   "metadata": {},
   "source": [
    "3、加载特征向量"
   ]
  },
  {
   "cell_type": "code",
   "execution_count": 8,
   "metadata": {},
   "outputs": [],
   "source": [
    "with h5py.File(\"features_Xception.h5\", 'r') as h:\n",
    "    X_train = np.array(h['train'])\n",
    "    Y_train = np.array(h['label'])"
   ]
  },
  {
   "cell_type": "markdown",
   "metadata": {},
   "source": [
    "4、构建模型"
   ]
  },
  {
   "cell_type": "code",
   "execution_count": 9,
   "metadata": {},
   "outputs": [
    {
     "name": "stdout",
     "output_type": "stream",
     "text": [
      "_________________________________________________________________\n",
      "Layer (type)                 Output Shape              Param #   \n",
      "=================================================================\n",
      "input_2 (InputLayer)         (None, 2048)              0         \n",
      "_________________________________________________________________\n",
      "dropout_1 (Dropout)          (None, 2048)              0         \n",
      "_________________________________________________________________\n",
      "dense_1 (Dense)              (None, 1)                 2049      \n",
      "=================================================================\n",
      "Total params: 2,049\n",
      "Trainable params: 2,049\n",
      "Non-trainable params: 0\n",
      "_________________________________________________________________\n"
     ]
    }
   ],
   "source": [
    "input_tensor = Input(X_train.shape[1:])\n",
    "x = Dropout(0.5)(input_tensor)\n",
    "x = Dense(1, activation='sigmoid')(x)\n",
    "model = Model(input_tensor, x)\n",
    "\n",
    "model.summary()"
   ]
  },
  {
   "cell_type": "code",
   "execution_count": 10,
   "metadata": {},
   "outputs": [],
   "source": [
    "model.compile(optimizer='adadelta', loss='binary_crossentropy', metrics=['accuracy'])"
   ]
  },
  {
   "cell_type": "markdown",
   "metadata": {},
   "source": [
    "5、训练模型"
   ]
  },
  {
   "cell_type": "code",
   "execution_count": 11,
   "metadata": {},
   "outputs": [
    {
     "name": "stdout",
     "output_type": "stream",
     "text": [
      "Train on 19946 samples, validate on 4987 samples\n",
      "Epoch 1/8\n",
      "19946/19946 [==============================] - ETA: 1:23 - loss: 0.7589 - acc: 0.351 - ETA: 5s - loss: 0.4855 - acc: 0.8428  - ETA: 2s - loss: 0.3651 - acc: 0.913 - ETA: 1s - loss: 0.2972 - acc: 0.938 - ETA: 1s - loss: 0.2534 - acc: 0.951 - ETA: 0s - loss: 0.2214 - acc: 0.959 - ETA: 0s - loss: 0.1982 - acc: 0.964 - ETA: 0s - loss: 0.1805 - acc: 0.968 - ETA: 0s - loss: 0.1646 - acc: 0.971 - ETA: 0s - loss: 0.1524 - acc: 0.973 - 1s 58us/step - loss: 0.1467 - acc: 0.9748 - val_loss: 0.0450 - val_acc: 0.9944\n",
      "Epoch 2/8\n",
      "19946/19946 [==============================] - ETA: 0s - loss: 0.0506 - acc: 0.992 - ETA: 0s - loss: 0.0520 - acc: 0.988 - ETA: 0s - loss: 0.0484 - acc: 0.990 - ETA: 0s - loss: 0.0500 - acc: 0.989 - ETA: 0s - loss: 0.0459 - acc: 0.991 - ETA: 0s - loss: 0.0428 - acc: 0.991 - ETA: 0s - loss: 0.0409 - acc: 0.991 - ETA: 0s - loss: 0.0400 - acc: 0.991 - ETA: 0s - loss: 0.0387 - acc: 0.992 - ETA: 0s - loss: 0.0375 - acc: 0.992 - 1s 28us/step - loss: 0.0373 - acc: 0.9922 - val_loss: 0.0247 - val_acc: 0.9940\n",
      "Epoch 3/8\n",
      "19946/19946 [==============================] - ETA: 0s - loss: 0.0109 - acc: 1.000 - ETA: 0s - loss: 0.0220 - acc: 0.993 - ETA: 0s - loss: 0.0235 - acc: 0.993 - ETA: 0s - loss: 0.0233 - acc: 0.994 - ETA: 0s - loss: 0.0230 - acc: 0.994 - ETA: 0s - loss: 0.0240 - acc: 0.993 - ETA: 0s - loss: 0.0250 - acc: 0.993 - ETA: 0s - loss: 0.0245 - acc: 0.993 - ETA: 0s - loss: 0.0247 - acc: 0.993 - ETA: 0s - loss: 0.0251 - acc: 0.993 - 1s 29us/step - loss: 0.0257 - acc: 0.9935 - val_loss: 0.0203 - val_acc: 0.9940\n",
      "Epoch 4/8\n",
      "19946/19946 [==============================] - ETA: 0s - loss: 0.0129 - acc: 1.000 - ETA: 0s - loss: 0.0219 - acc: 0.994 - ETA: 0s - loss: 0.0238 - acc: 0.994 - ETA: 0s - loss: 0.0232 - acc: 0.994 - ETA: 0s - loss: 0.0229 - acc: 0.994 - ETA: 0s - loss: 0.0219 - acc: 0.994 - ETA: 0s - loss: 0.0227 - acc: 0.994 - ETA: 0s - loss: 0.0228 - acc: 0.994 - ETA: 0s - loss: 0.0231 - acc: 0.993 - ETA: 0s - loss: 0.0227 - acc: 0.993 - 1s 28us/step - loss: 0.0224 - acc: 0.9940 - val_loss: 0.0179 - val_acc: 0.9950\n",
      "Epoch 5/8\n",
      "19946/19946 [==============================] - ETA: 0s - loss: 0.0045 - acc: 1.000 - ETA: 0s - loss: 0.0277 - acc: 0.991 - ETA: 0s - loss: 0.0225 - acc: 0.993 - ETA: 0s - loss: 0.0203 - acc: 0.995 - ETA: 0s - loss: 0.0211 - acc: 0.994 - ETA: 0s - loss: 0.0222 - acc: 0.993 - ETA: 0s - loss: 0.0222 - acc: 0.993 - ETA: 0s - loss: 0.0210 - acc: 0.994 - ETA: 0s - loss: 0.0208 - acc: 0.994 - ETA: 0s - loss: 0.0215 - acc: 0.993 - 1s 28us/step - loss: 0.0214 - acc: 0.9939 - val_loss: 0.0170 - val_acc: 0.9952\n",
      "Epoch 6/8\n",
      "19946/19946 [==============================] - ETA: 0s - loss: 0.0063 - acc: 1.000 - ETA: 0s - loss: 0.0212 - acc: 0.994 - ETA: 0s - loss: 0.0219 - acc: 0.994 - ETA: 0s - loss: 0.0204 - acc: 0.994 - ETA: 0s - loss: 0.0212 - acc: 0.994 - ETA: 0s - loss: 0.0201 - acc: 0.994 - ETA: 0s - loss: 0.0199 - acc: 0.994 - ETA: 0s - loss: 0.0194 - acc: 0.994 - ETA: 0s - loss: 0.0197 - acc: 0.994 - ETA: 0s - loss: 0.0203 - acc: 0.994 - 1s 29us/step - loss: 0.0202 - acc: 0.9942 - val_loss: 0.0165 - val_acc: 0.9948\n",
      "Epoch 7/8\n",
      "19946/19946 [==============================] - ETA: 0s - loss: 0.0269 - acc: 0.984 - ETA: 0s - loss: 0.0156 - acc: 0.994 - ETA: 0s - loss: 0.0181 - acc: 0.995 - ETA: 0s - loss: 0.0181 - acc: 0.995 - ETA: 0s - loss: 0.0176 - acc: 0.995 - ETA: 0s - loss: 0.0179 - acc: 0.995 - ETA: 0s - loss: 0.0186 - acc: 0.995 - ETA: 0s - loss: 0.0189 - acc: 0.994 - ETA: 0s - loss: 0.0186 - acc: 0.995 - ETA: 0s - loss: 0.0194 - acc: 0.994 - ETA: 0s - loss: 0.0190 - acc: 0.994 - 1s 30us/step - loss: 0.0190 - acc: 0.9947 - val_loss: 0.0165 - val_acc: 0.9946\n",
      "Epoch 8/8\n",
      "19946/19946 [==============================] - ETA: 0s - loss: 0.0049 - acc: 1.000 - ETA: 0s - loss: 0.0179 - acc: 0.994 - ETA: 0s - loss: 0.0163 - acc: 0.994 - ETA: 0s - loss: 0.0192 - acc: 0.993 - ETA: 0s - loss: 0.0174 - acc: 0.994 - ETA: 0s - loss: 0.0180 - acc: 0.994 - ETA: 0s - loss: 0.0171 - acc: 0.994 - ETA: 0s - loss: 0.0176 - acc: 0.994 - ETA: 0s - loss: 0.0177 - acc: 0.994 - ETA: 0s - loss: 0.0180 - acc: 0.994 - 1s 28us/step - loss: 0.0181 - acc: 0.9945 - val_loss: 0.0156 - val_acc: 0.9950\n"
     ]
    }
   ],
   "source": [
    "result = model.fit(X_train, Y_train, batch_size=128, epochs=8, validation_split=0.2)"
   ]
  },
  {
   "cell_type": "code",
   "execution_count": 12,
   "metadata": {},
   "outputs": [
    {
     "data": {
      "text/plain": [
       "{'val_loss': [0.044989877574837515,\n",
       "  0.024657515470922316,\n",
       "  0.020320114378780216,\n",
       "  0.017924182635777,\n",
       "  0.016968875978883795,\n",
       "  0.01645094099455889,\n",
       "  0.016480626087207725,\n",
       "  0.015589122690338098],\n",
       " 'val_acc': [0.9943854049855109,\n",
       "  0.9939843622744621,\n",
       "  0.9939843622744621,\n",
       "  0.994986969052084,\n",
       "  0.9951874904076083,\n",
       "  0.9947864476965596,\n",
       "  0.9945859263410353,\n",
       "  0.994986969052084],\n",
       " 'loss': [0.1467053964192448,\n",
       "  0.0372609767377762,\n",
       "  0.02565748637457522,\n",
       "  0.022430062672586685,\n",
       "  0.02135857122998909,\n",
       "  0.020167977727219726,\n",
       "  0.018962361081757802,\n",
       "  0.01811241419587326],\n",
       " 'acc': [0.9747819113573603,\n",
       "  0.9922290183495438,\n",
       "  0.9934824024867142,\n",
       "  0.9940338915070691,\n",
       "  0.9938834854106087,\n",
       "  0.9942344331662442,\n",
       "  0.9946856514556255,\n",
       "  0.9945352451619373]}"
      ]
     },
     "execution_count": 12,
     "metadata": {},
     "output_type": "execute_result"
    }
   ],
   "source": [
    "result.history"
   ]
  },
  {
   "cell_type": "code",
   "execution_count": 42,
   "metadata": {},
   "outputs": [],
   "source": [
    "acc_9 = np.array(result.history.get(\"val_acc\"))"
   ]
  },
  {
   "cell_type": "code",
   "execution_count": 38,
   "metadata": {},
   "outputs": [],
   "source": [
    "acc_8 = np.array(result.history.get(\"val_acc\"))"
   ]
  },
  {
   "cell_type": "code",
   "execution_count": 34,
   "metadata": {},
   "outputs": [],
   "source": [
    "acc_7 = np.array(result.history.get(\"val_acc\"))"
   ]
  },
  {
   "cell_type": "code",
   "execution_count": 30,
   "metadata": {},
   "outputs": [],
   "source": [
    "acc_6 = np.array(result.history.get(\"val_acc\"))"
   ]
  },
  {
   "cell_type": "code",
   "execution_count": 18,
   "metadata": {},
   "outputs": [],
   "source": [
    "acc_5 = np.array(result.history.get(\"val_acc\"))"
   ]
  },
  {
   "cell_type": "code",
   "execution_count": 22,
   "metadata": {},
   "outputs": [],
   "source": [
    "acc_4 = np.array(result.history.get(\"val_acc\"))"
   ]
  },
  {
   "cell_type": "code",
   "execution_count": 26,
   "metadata": {},
   "outputs": [],
   "source": [
    "acc_3 = np.array(result.history.get(\"val_acc\"))"
   ]
  },
  {
   "cell_type": "code",
   "execution_count": 13,
   "metadata": {},
   "outputs": [
    {
     "data": {
      "text/plain": [
       "0.9947199999999999"
      ]
     },
     "execution_count": 13,
     "metadata": {},
     "output_type": "execute_result"
    }
   ],
   "source": [
    "np.array(result.history.get(\"val_acc\")).mean()"
   ]
  },
  {
   "cell_type": "code",
   "execution_count": 44,
   "metadata": {},
   "outputs": [
    {
     "data": {
      "image/png": "[encoded data removed]",
      "text/plain": [
       "<Figure size 432x288 with 1 Axes>"
      ]
     },
     "metadata": {
      "needs_background": "light"
     },
     "output_type": "display_data"
    }
   ],
   "source": [
    "plt.plot(acc_3, label='rate=0.3')\n",
    "plt.plot(acc_4, label='rate=0.4')\n",
    "plt.plot(acc_5, label='rate=0.5')\n",
    "plt.plot(acc_6, label='rate=0.6')\n",
    "plt.plot(acc_7, label='rate=0.7')\n",
    "plt.plot(acc_8, label='rate=0.8')\n",
    "plt.plot(acc_9, label='rate=0.9')\n",
    "\n",
    "#plt.title('Learning curve')\n",
    "plt.xlabel(\"Number of steps\")\n",
    "plt.ylabel(\"Accuracy\")\n",
    "plt.legend()\n",
    "plt.show()"
   ]
  },
  {
   "cell_type": "code",
   "execution_count": 53,
   "metadata": {},
   "outputs": [],
   "source": [
    "val_loss = np.array(result.history.get(\"val_loss\"))\n",
    "loss = np.array(result.history.get(\"loss\"))"
   ]
  },
  {
   "cell_type": "code",
   "execution_count": 54,
   "metadata": {},
   "outputs": [
    {
     "data": {
      "image/png": "[encoded data removed]",
      "text/plain": [
       "<Figure size 432x288 with 1 Axes>"
      ]
     },
     "metadata": {
      "needs_background": "light"
     },
     "output_type": "display_data"
    }
   ],
   "source": [
    "plt.plot(val_loss, label='val_loss')\n",
    "plt.plot(loss, label='loss')\n",
    "\n",
    "plt.title('Loss Learning curve')\n",
    "plt.legend()\n",
    "plt.show()"
   ]
  },
  {
   "cell_type": "markdown",
   "metadata": {},
   "source": [
    "6、预测测试集"
   ]
  },
  {
   "cell_type": "code",
   "execution_count": 14,
   "metadata": {},
   "outputs": [
    {
     "name": "stdout",
     "output_type": "stream",
     "text": [
      "12500/12500 [==============================] - ETA:  - ETA:  - ETA:  - ETA:  - ETA:  - ETA:  - 0s 21us/step\n"
     ]
    },
    {
     "name": "stderr",
     "output_type": "stream",
     "text": [
      "c:\\python36\\lib\\site-packages\\ipykernel_launcher.py:8: FutureWarning: set_value is deprecated and will be removed in a future release. Please use .at[] or .iat[] accessors instead\n",
      "  \n"
     ]
    },
    {
     "data": {
      "text/html": [
       "<div>\n",
       "<style scoped>\n",
       "    .dataframe tbody tr th:only-of-type {\n",
       "        vertical-align: middle;\n",
       "    }\n",
       "\n",
       "    .dataframe tbody tr th {\n",
       "        vertical-align: top;\n",
       "    }\n",
       "\n",
       "    .dataframe thead th {\n",
       "        text-align: right;\n",
       "    }\n",
       "</style>\n",
       "<table border=\"1\" class=\"dataframe\">\n",
       "  <thead>\n",
       "    <tr style=\"text-align: right;\">\n",
       "      <th></th>\n",
       "      <th>id</th>\n",
       "      <th>label</th>\n",
       "    </tr>\n",
       "  </thead>\n",
       "  <tbody>\n",
       "    <tr>\n",
       "      <th>0</th>\n",
       "      <td>1</td>\n",
       "      <td>0.995</td>\n",
       "    </tr>\n",
       "    <tr>\n",
       "      <th>1</th>\n",
       "      <td>2</td>\n",
       "      <td>0.995</td>\n",
       "    </tr>\n",
       "    <tr>\n",
       "      <th>2</th>\n",
       "      <td>3</td>\n",
       "      <td>0.995</td>\n",
       "    </tr>\n",
       "    <tr>\n",
       "      <th>3</th>\n",
       "      <td>4</td>\n",
       "      <td>0.995</td>\n",
       "    </tr>\n",
       "    <tr>\n",
       "      <th>4</th>\n",
       "      <td>5</td>\n",
       "      <td>0.005</td>\n",
       "    </tr>\n",
       "    <tr>\n",
       "      <th>5</th>\n",
       "      <td>6</td>\n",
       "      <td>0.005</td>\n",
       "    </tr>\n",
       "    <tr>\n",
       "      <th>6</th>\n",
       "      <td>7</td>\n",
       "      <td>0.005</td>\n",
       "    </tr>\n",
       "    <tr>\n",
       "      <th>7</th>\n",
       "      <td>8</td>\n",
       "      <td>0.005</td>\n",
       "    </tr>\n",
       "    <tr>\n",
       "      <th>8</th>\n",
       "      <td>9</td>\n",
       "      <td>0.005</td>\n",
       "    </tr>\n",
       "    <tr>\n",
       "      <th>9</th>\n",
       "      <td>10</td>\n",
       "      <td>0.005</td>\n",
       "    </tr>\n",
       "  </tbody>\n",
       "</table>\n",
       "</div>"
      ],
      "text/plain": [
       "   id  label\n",
       "0   1  0.995\n",
       "1   2  0.995\n",
       "2   3  0.995\n",
       "3   4  0.995\n",
       "4   5  0.005\n",
       "5   6  0.005\n",
       "6   7  0.005\n",
       "7   8  0.005\n",
       "8   9  0.005\n",
       "9  10  0.005"
      ]
     },
     "execution_count": 14,
     "metadata": {},
     "output_type": "execute_result"
    }
   ],
   "source": [
    "y_pred = model.predict(X_test, verbose=1)\n",
    "y_pred = y_pred.clip(min=0.005, max=0.995)\n",
    "\n",
    "\n",
    "df = pd.read_csv(\"all/sample_submission.csv\")\n",
    "for i, fname in enumerate(test_files):\n",
    "    index = int(fname[fname.rfind('\\\\')+1:fname.rfind('.')])\n",
    "    df.set_value(index-1, 'label', y_pred[i])\n",
    "\n",
    "df.to_csv('prediction.csv', index=False)\n",
    "df.head(10)"
   ]
  },
  {
   "cell_type": "code",
   "execution_count": 16,
   "metadata": {},
   "outputs": [],
   "source": [
    "end_logloss= 0.04115"
   ]
  },
  {
   "cell_type": "code",
   "execution_count": 18,
   "metadata": {},
   "outputs": [],
   "source": [
    "clip_logloss = 0.04947"
   ]
  },
  {
   "cell_type": "code",
   "execution_count": null,
   "metadata": {},
   "outputs": [],
   "source": []
  }
 ],
 "metadata": {
  "kernelspec": {
   "display_name": "Python 3",
   "language": "python",
   "name": "python3"
  },
  "language_info": {
   "codemirror_mode": {
    "name": "ipython",
    "version": 3
   },
   "file_extension": ".py",
   "mimetype": "text/x-python",
   "name": "python",
   "nbconvert_exporter": "python",
   "pygments_lexer": "ipython3",
   "version": "3.6.6"
  }
 },
 "nbformat": 4,
 "nbformat_minor": 2
}
